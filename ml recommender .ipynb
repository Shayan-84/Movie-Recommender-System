{
 "cells": [
  {
   "cell_type": "code",
   "execution_count": 42,
   "id": "72aaadbe-7559-483e-83c3-b8b1de652f62",
   "metadata": {},
   "outputs": [],
   "source": [
    "import pandas as pd \n",
    "#from sklearn.feature_extraction.text import CountVectorizer\n",
    "from sklearn.feature_extraction.text import TfidfVectorizer\n",
    "import numpy as np \n",
    "from sklearn.neighbors import NearestNeighbors\n",
    "from sklearn.metrics.pairwise import cosine_similarity\n",
    "import re\n"
   ]
  },
  {
   "cell_type": "code",
   "execution_count": 158,
   "id": "2e758f94-4cbd-4eae-a8fe-5149fbe49895",
   "metadata": {},
   "outputs": [],
   "source": [
    "data=pd.read_csv(r\"C:\\Users\\User\\Desktop\\my project\\3  (9.11.2025)\\results_with_crew.csv\")"
   ]
  },
  {
   "cell_type": "code",
   "execution_count": 160,
   "id": "7f9cb248-245e-4f7c-b48c-07b965f9cdfd",
   "metadata": {},
   "outputs": [
    {
     "data": {
      "text/html": [
       "<div>\n",
       "<style scoped>\n",
       "    .dataframe tbody tr th:only-of-type {\n",
       "        vertical-align: middle;\n",
       "    }\n",
       "\n",
       "    .dataframe tbody tr th {\n",
       "        vertical-align: top;\n",
       "    }\n",
       "\n",
       "    .dataframe thead th {\n",
       "        text-align: right;\n",
       "    }\n",
       "</style>\n",
       "<table border=\"1\" class=\"dataframe\">\n",
       "  <thead>\n",
       "    <tr style=\"text-align: right;\">\n",
       "      <th></th>\n",
       "      <th>tconst</th>\n",
       "      <th>primaryTitle</th>\n",
       "      <th>startYear</th>\n",
       "      <th>rank</th>\n",
       "      <th>averageRating</th>\n",
       "      <th>numVotes</th>\n",
       "      <th>runtimeMinutes</th>\n",
       "      <th>directors</th>\n",
       "      <th>writers</th>\n",
       "      <th>genres</th>\n",
       "      <th>IMDbLink</th>\n",
       "      <th>Title_IMDb_Link</th>\n",
       "    </tr>\n",
       "  </thead>\n",
       "  <tbody>\n",
       "    <tr>\n",
       "      <th>0</th>\n",
       "      <td>tt0111161</td>\n",
       "      <td>The Shawshank Redemption</td>\n",
       "      <td>1994</td>\n",
       "      <td>1</td>\n",
       "      <td>9.3</td>\n",
       "      <td>3104681</td>\n",
       "      <td>142</td>\n",
       "      <td>Frank Darabont</td>\n",
       "      <td>Stephen King, Frank Darabont</td>\n",
       "      <td>Drama</td>\n",
       "      <td>&lt;a href=\"https://www.imdb.com/title/tt0111161\"...</td>\n",
       "      <td>&lt;a href=\"https://www.imdb.com/title/tt0111161\"...</td>\n",
       "    </tr>\n",
       "    <tr>\n",
       "      <th>1</th>\n",
       "      <td>tt0068646</td>\n",
       "      <td>The Godfather</td>\n",
       "      <td>1972</td>\n",
       "      <td>2</td>\n",
       "      <td>9.2</td>\n",
       "      <td>2163817</td>\n",
       "      <td>175</td>\n",
       "      <td>Francis Ford Coppola</td>\n",
       "      <td>Mario Puzo, Francis Ford Coppola</td>\n",
       "      <td>Crime, Drama</td>\n",
       "      <td>&lt;a href=\"https://www.imdb.com/title/tt0068646\"...</td>\n",
       "      <td>&lt;a href=\"https://www.imdb.com/title/tt0068646\"...</td>\n",
       "    </tr>\n",
       "    <tr>\n",
       "      <th>2</th>\n",
       "      <td>tt0468569</td>\n",
       "      <td>The Dark Knight</td>\n",
       "      <td>2008</td>\n",
       "      <td>3</td>\n",
       "      <td>9.1</td>\n",
       "      <td>3079698</td>\n",
       "      <td>152</td>\n",
       "      <td>Christopher Nolan</td>\n",
       "      <td>Jonathan Nolan, Christopher Nolan, David S. Go...</td>\n",
       "      <td>Action, Crime, Drama</td>\n",
       "      <td>&lt;a href=\"https://www.imdb.com/title/tt0468569\"...</td>\n",
       "      <td>&lt;a href=\"https://www.imdb.com/title/tt0468569\"...</td>\n",
       "    </tr>\n",
       "    <tr>\n",
       "      <th>3</th>\n",
       "      <td>tt0167260</td>\n",
       "      <td>The Lord of the Rings: The Return of the King</td>\n",
       "      <td>2003</td>\n",
       "      <td>4</td>\n",
       "      <td>9.0</td>\n",
       "      <td>2110101</td>\n",
       "      <td>201</td>\n",
       "      <td>Peter Jackson</td>\n",
       "      <td>J.R.R. Tolkien, Fran Walsh, Philippa Boyens, P...</td>\n",
       "      <td>Adventure, Drama, Fantasy</td>\n",
       "      <td>&lt;a href=\"https://www.imdb.com/title/tt0167260\"...</td>\n",
       "      <td>&lt;a href=\"https://www.imdb.com/title/tt0167260\"...</td>\n",
       "    </tr>\n",
       "    <tr>\n",
       "      <th>4</th>\n",
       "      <td>tt0108052</td>\n",
       "      <td>Schindler's List</td>\n",
       "      <td>1993</td>\n",
       "      <td>5</td>\n",
       "      <td>9.0</td>\n",
       "      <td>1547957</td>\n",
       "      <td>195</td>\n",
       "      <td>Steven Spielberg</td>\n",
       "      <td>Thomas Keneally, Steven Zaillian</td>\n",
       "      <td>Biography, Drama, History</td>\n",
       "      <td>&lt;a href=\"https://www.imdb.com/title/tt0108052\"...</td>\n",
       "      <td>&lt;a href=\"https://www.imdb.com/title/tt0108052\"...</td>\n",
       "    </tr>\n",
       "  </tbody>\n",
       "</table>\n",
       "</div>"
      ],
      "text/plain": [
       "      tconst                                   primaryTitle  startYear  rank  \\\n",
       "0  tt0111161                       The Shawshank Redemption       1994     1   \n",
       "1  tt0068646                                  The Godfather       1972     2   \n",
       "2  tt0468569                                The Dark Knight       2008     3   \n",
       "3  tt0167260  The Lord of the Rings: The Return of the King       2003     4   \n",
       "4  tt0108052                               Schindler's List       1993     5   \n",
       "\n",
       "   averageRating  numVotes  runtimeMinutes             directors  \\\n",
       "0            9.3   3104681             142        Frank Darabont   \n",
       "1            9.2   2163817             175  Francis Ford Coppola   \n",
       "2            9.1   3079698             152     Christopher Nolan   \n",
       "3            9.0   2110101             201         Peter Jackson   \n",
       "4            9.0   1547957             195      Steven Spielberg   \n",
       "\n",
       "                                             writers  \\\n",
       "0                       Stephen King, Frank Darabont   \n",
       "1                   Mario Puzo, Francis Ford Coppola   \n",
       "2  Jonathan Nolan, Christopher Nolan, David S. Go...   \n",
       "3  J.R.R. Tolkien, Fran Walsh, Philippa Boyens, P...   \n",
       "4                   Thomas Keneally, Steven Zaillian   \n",
       "\n",
       "                      genres  \\\n",
       "0                      Drama   \n",
       "1               Crime, Drama   \n",
       "2       Action, Crime, Drama   \n",
       "3  Adventure, Drama, Fantasy   \n",
       "4  Biography, Drama, History   \n",
       "\n",
       "                                            IMDbLink  \\\n",
       "0  <a href=\"https://www.imdb.com/title/tt0111161\"...   \n",
       "1  <a href=\"https://www.imdb.com/title/tt0068646\"...   \n",
       "2  <a href=\"https://www.imdb.com/title/tt0468569\"...   \n",
       "3  <a href=\"https://www.imdb.com/title/tt0167260\"...   \n",
       "4  <a href=\"https://www.imdb.com/title/tt0108052\"...   \n",
       "\n",
       "                                     Title_IMDb_Link  \n",
       "0  <a href=\"https://www.imdb.com/title/tt0111161\"...  \n",
       "1  <a href=\"https://www.imdb.com/title/tt0068646\"...  \n",
       "2  <a href=\"https://www.imdb.com/title/tt0468569\"...  \n",
       "3  <a href=\"https://www.imdb.com/title/tt0167260\"...  \n",
       "4  <a href=\"https://www.imdb.com/title/tt0108052\"...  "
      ]
     },
     "execution_count": 160,
     "metadata": {},
     "output_type": "execute_result"
    }
   ],
   "source": [
    "data.head()\n"
   ]
  },
  {
   "cell_type": "code",
   "execution_count": 78,
   "id": "11e39d57-a79f-4202-9d22-258a803f59e2",
   "metadata": {},
   "outputs": [
    {
     "name": "stdout",
     "output_type": "stream",
     "text": [
      "<class 'pandas.core.frame.DataFrame'>\n",
      "RangeIndex: 5000 entries, 0 to 4999\n",
      "Data columns (total 9 columns):\n",
      " #   Column          Non-Null Count  Dtype         \n",
      "---  ------          --------------  -----         \n",
      " 0   movie_name      5000 non-null   object        \n",
      " 1   year            5000 non-null   datetime64[ns]\n",
      " 2   rank            5000 non-null   int64         \n",
      " 3   averageRating   5000 non-null   float64       \n",
      " 4   runtimeMinutes  5000 non-null   int64         \n",
      " 5   directors       5000 non-null   object        \n",
      " 6   writers         4975 non-null   object        \n",
      " 7   genres          5000 non-null   object        \n",
      " 8   IMDbLink        5000 non-null   object        \n",
      "dtypes: datetime64[ns](1), float64(1), int64(2), object(5)\n",
      "memory usage: 351.7+ KB\n"
     ]
    }
   ],
   "source": [
    "data.info()"
   ]
  },
  {
   "cell_type": "code",
   "execution_count": 108,
   "id": "52d2d0b4-7660-4d68-aad3-1cbd8472399b",
   "metadata": {},
   "outputs": [
    {
     "ename": "KeyError",
     "evalue": "\"['tconst', 'numVotes', 'Title_IMDb_Link'] not found in axis\"",
     "output_type": "error",
     "traceback": [
      "\u001b[1;31m---------------------------------------------------------------------------\u001b[0m",
      "\u001b[1;31mKeyError\u001b[0m                                  Traceback (most recent call last)",
      "Cell \u001b[1;32mIn[108], line 1\u001b[0m\n\u001b[1;32m----> 1\u001b[0m data\u001b[38;5;241m.\u001b[39mdrop([\u001b[38;5;124m\"\u001b[39m\u001b[38;5;124mtconst\u001b[39m\u001b[38;5;124m\"\u001b[39m,\u001b[38;5;124m\"\u001b[39m\u001b[38;5;124mnumVotes\u001b[39m\u001b[38;5;124m\"\u001b[39m,\u001b[38;5;124m\"\u001b[39m\u001b[38;5;124mTitle_IMDb_Link\u001b[39m\u001b[38;5;124m\"\u001b[39m], axis\u001b[38;5;241m=\u001b[39m\u001b[38;5;241m1\u001b[39m, inplace\u001b[38;5;241m=\u001b[39m\u001b[38;5;28;01mTrue\u001b[39;00m)\n\u001b[0;32m      3\u001b[0m data\u001b[38;5;241m=\u001b[39m data\u001b[38;5;241m.\u001b[39mrename(columns\u001b[38;5;241m=\u001b[39m{\n\u001b[0;32m      4\u001b[0m     \u001b[38;5;124m'\u001b[39m\u001b[38;5;124mprimaryTitle\u001b[39m\u001b[38;5;124m'\u001b[39m:\u001b[38;5;124m'\u001b[39m\u001b[38;5;124mmovie_name\u001b[39m\u001b[38;5;124m'\u001b[39m,\n\u001b[0;32m      5\u001b[0m     \u001b[38;5;124m'\u001b[39m\u001b[38;5;124mstartYear\u001b[39m\u001b[38;5;124m'\u001b[39m : \u001b[38;5;124m'\u001b[39m\u001b[38;5;124myear\u001b[39m\u001b[38;5;124m'\u001b[39m,\n\u001b[0;32m      6\u001b[0m })\n\u001b[0;32m      8\u001b[0m data[\u001b[38;5;124m\"\u001b[39m\u001b[38;5;124mwriters\u001b[39m\u001b[38;5;124m\"\u001b[39m] \u001b[38;5;241m=\u001b[39m data[\u001b[38;5;124m\"\u001b[39m\u001b[38;5;124mwriters\u001b[39m\u001b[38;5;124m\"\u001b[39m]\u001b[38;5;241m.\u001b[39mfillna(\u001b[38;5;124m\"\u001b[39m\u001b[38;5;124munknown_writer\u001b[39m\u001b[38;5;124m\"\u001b[39m)\n",
      "File \u001b[1;32m~\\anaconda3\\Lib\\site-packages\\pandas\\core\\frame.py:5581\u001b[0m, in \u001b[0;36mDataFrame.drop\u001b[1;34m(self, labels, axis, index, columns, level, inplace, errors)\u001b[0m\n\u001b[0;32m   5433\u001b[0m \u001b[38;5;28;01mdef\u001b[39;00m \u001b[38;5;21mdrop\u001b[39m(\n\u001b[0;32m   5434\u001b[0m     \u001b[38;5;28mself\u001b[39m,\n\u001b[0;32m   5435\u001b[0m     labels: IndexLabel \u001b[38;5;241m|\u001b[39m \u001b[38;5;28;01mNone\u001b[39;00m \u001b[38;5;241m=\u001b[39m \u001b[38;5;28;01mNone\u001b[39;00m,\n\u001b[1;32m   (...)\u001b[0m\n\u001b[0;32m   5442\u001b[0m     errors: IgnoreRaise \u001b[38;5;241m=\u001b[39m \u001b[38;5;124m\"\u001b[39m\u001b[38;5;124mraise\u001b[39m\u001b[38;5;124m\"\u001b[39m,\n\u001b[0;32m   5443\u001b[0m ) \u001b[38;5;241m-\u001b[39m\u001b[38;5;241m>\u001b[39m DataFrame \u001b[38;5;241m|\u001b[39m \u001b[38;5;28;01mNone\u001b[39;00m:\n\u001b[0;32m   5444\u001b[0m \u001b[38;5;250m    \u001b[39m\u001b[38;5;124;03m\"\"\"\u001b[39;00m\n\u001b[0;32m   5445\u001b[0m \u001b[38;5;124;03m    Drop specified labels from rows or columns.\u001b[39;00m\n\u001b[0;32m   5446\u001b[0m \n\u001b[1;32m   (...)\u001b[0m\n\u001b[0;32m   5579\u001b[0m \u001b[38;5;124;03m            weight  1.0     0.8\u001b[39;00m\n\u001b[0;32m   5580\u001b[0m \u001b[38;5;124;03m    \"\"\"\u001b[39;00m\n\u001b[1;32m-> 5581\u001b[0m     \u001b[38;5;28;01mreturn\u001b[39;00m \u001b[38;5;28msuper\u001b[39m()\u001b[38;5;241m.\u001b[39mdrop(\n\u001b[0;32m   5582\u001b[0m         labels\u001b[38;5;241m=\u001b[39mlabels,\n\u001b[0;32m   5583\u001b[0m         axis\u001b[38;5;241m=\u001b[39maxis,\n\u001b[0;32m   5584\u001b[0m         index\u001b[38;5;241m=\u001b[39mindex,\n\u001b[0;32m   5585\u001b[0m         columns\u001b[38;5;241m=\u001b[39mcolumns,\n\u001b[0;32m   5586\u001b[0m         level\u001b[38;5;241m=\u001b[39mlevel,\n\u001b[0;32m   5587\u001b[0m         inplace\u001b[38;5;241m=\u001b[39minplace,\n\u001b[0;32m   5588\u001b[0m         errors\u001b[38;5;241m=\u001b[39merrors,\n\u001b[0;32m   5589\u001b[0m     )\n",
      "File \u001b[1;32m~\\anaconda3\\Lib\\site-packages\\pandas\\core\\generic.py:4788\u001b[0m, in \u001b[0;36mNDFrame.drop\u001b[1;34m(self, labels, axis, index, columns, level, inplace, errors)\u001b[0m\n\u001b[0;32m   4786\u001b[0m \u001b[38;5;28;01mfor\u001b[39;00m axis, labels \u001b[38;5;129;01min\u001b[39;00m axes\u001b[38;5;241m.\u001b[39mitems():\n\u001b[0;32m   4787\u001b[0m     \u001b[38;5;28;01mif\u001b[39;00m labels \u001b[38;5;129;01mis\u001b[39;00m \u001b[38;5;129;01mnot\u001b[39;00m \u001b[38;5;28;01mNone\u001b[39;00m:\n\u001b[1;32m-> 4788\u001b[0m         obj \u001b[38;5;241m=\u001b[39m obj\u001b[38;5;241m.\u001b[39m_drop_axis(labels, axis, level\u001b[38;5;241m=\u001b[39mlevel, errors\u001b[38;5;241m=\u001b[39merrors)\n\u001b[0;32m   4790\u001b[0m \u001b[38;5;28;01mif\u001b[39;00m inplace:\n\u001b[0;32m   4791\u001b[0m     \u001b[38;5;28mself\u001b[39m\u001b[38;5;241m.\u001b[39m_update_inplace(obj)\n",
      "File \u001b[1;32m~\\anaconda3\\Lib\\site-packages\\pandas\\core\\generic.py:4830\u001b[0m, in \u001b[0;36mNDFrame._drop_axis\u001b[1;34m(self, labels, axis, level, errors, only_slice)\u001b[0m\n\u001b[0;32m   4828\u001b[0m         new_axis \u001b[38;5;241m=\u001b[39m axis\u001b[38;5;241m.\u001b[39mdrop(labels, level\u001b[38;5;241m=\u001b[39mlevel, errors\u001b[38;5;241m=\u001b[39merrors)\n\u001b[0;32m   4829\u001b[0m     \u001b[38;5;28;01melse\u001b[39;00m:\n\u001b[1;32m-> 4830\u001b[0m         new_axis \u001b[38;5;241m=\u001b[39m axis\u001b[38;5;241m.\u001b[39mdrop(labels, errors\u001b[38;5;241m=\u001b[39merrors)\n\u001b[0;32m   4831\u001b[0m     indexer \u001b[38;5;241m=\u001b[39m axis\u001b[38;5;241m.\u001b[39mget_indexer(new_axis)\n\u001b[0;32m   4833\u001b[0m \u001b[38;5;66;03m# Case for non-unique axis\u001b[39;00m\n\u001b[0;32m   4834\u001b[0m \u001b[38;5;28;01melse\u001b[39;00m:\n",
      "File \u001b[1;32m~\\anaconda3\\Lib\\site-packages\\pandas\\core\\indexes\\base.py:7070\u001b[0m, in \u001b[0;36mIndex.drop\u001b[1;34m(self, labels, errors)\u001b[0m\n\u001b[0;32m   7068\u001b[0m \u001b[38;5;28;01mif\u001b[39;00m mask\u001b[38;5;241m.\u001b[39many():\n\u001b[0;32m   7069\u001b[0m     \u001b[38;5;28;01mif\u001b[39;00m errors \u001b[38;5;241m!=\u001b[39m \u001b[38;5;124m\"\u001b[39m\u001b[38;5;124mignore\u001b[39m\u001b[38;5;124m\"\u001b[39m:\n\u001b[1;32m-> 7070\u001b[0m         \u001b[38;5;28;01mraise\u001b[39;00m \u001b[38;5;167;01mKeyError\u001b[39;00m(\u001b[38;5;124mf\u001b[39m\u001b[38;5;124m\"\u001b[39m\u001b[38;5;132;01m{\u001b[39;00mlabels[mask]\u001b[38;5;241m.\u001b[39mtolist()\u001b[38;5;132;01m}\u001b[39;00m\u001b[38;5;124m not found in axis\u001b[39m\u001b[38;5;124m\"\u001b[39m)\n\u001b[0;32m   7071\u001b[0m     indexer \u001b[38;5;241m=\u001b[39m indexer[\u001b[38;5;241m~\u001b[39mmask]\n\u001b[0;32m   7072\u001b[0m \u001b[38;5;28;01mreturn\u001b[39;00m \u001b[38;5;28mself\u001b[39m\u001b[38;5;241m.\u001b[39mdelete(indexer)\n",
      "\u001b[1;31mKeyError\u001b[0m: \"['tconst', 'numVotes', 'Title_IMDb_Link'] not found in axis\""
     ]
    }
   ],
   "source": [
    "data.drop([\"tconst\",\"numVotes\",\"Title_IMDb_Link\"], axis=1, inplace=True)\n",
    "\n",
    "data= data.rename(columns={\n",
    "    'primaryTitle':'movie_name',\n",
    "    'startYear' : 'year',\n",
    "})\n",
    "\n",
    "data[\"writers\"] = data[\"writers\"].fillna(\"unknown_writer\")"
   ]
  },
  {
   "cell_type": "code",
   "execution_count": 123,
   "id": "d19e2bd9-9f31-4eed-b887-87c63fa6ce00",
   "metadata": {},
   "outputs": [],
   "source": [
    "data[\"writers\"] = data[\"writers\"].fillna(\"unknown_writer\")\n"
   ]
  },
  {
   "cell_type": "code",
   "execution_count": 150,
   "id": "308c95e0-c4bf-485f-b3ad-fd82334f9b1d",
   "metadata": {},
   "outputs": [],
   "source": [
    "data['year'] = data['year'].astype(str).str.extract(r'(\\d{4})')[0]\n"
   ]
  },
  {
   "cell_type": "code",
   "execution_count": 156,
   "id": "30d39c29-db0e-44fb-9e27-9a2e1e7178ed",
   "metadata": {},
   "outputs": [
    {
     "data": {
      "text/html": [
       "<div>\n",
       "<style scoped>\n",
       "    .dataframe tbody tr th:only-of-type {\n",
       "        vertical-align: middle;\n",
       "    }\n",
       "\n",
       "    .dataframe tbody tr th {\n",
       "        vertical-align: top;\n",
       "    }\n",
       "\n",
       "    .dataframe thead th {\n",
       "        text-align: right;\n",
       "    }\n",
       "</style>\n",
       "<table border=\"1\" class=\"dataframe\">\n",
       "  <thead>\n",
       "    <tr style=\"text-align: right;\">\n",
       "      <th></th>\n",
       "      <th>movie_name</th>\n",
       "      <th>year</th>\n",
       "      <th>rank</th>\n",
       "      <th>averageRating</th>\n",
       "      <th>runtimeMinutes</th>\n",
       "      <th>directors</th>\n",
       "      <th>writers</th>\n",
       "      <th>genres</th>\n",
       "      <th>IMDbLink</th>\n",
       "      <th>combined_feature</th>\n",
       "      <th>weighted_combined_feature</th>\n",
       "    </tr>\n",
       "  </thead>\n",
       "  <tbody>\n",
       "    <tr>\n",
       "      <th>0</th>\n",
       "      <td>The Shawshank Redemption</td>\n",
       "      <td>1994</td>\n",
       "      <td>1</td>\n",
       "      <td>9.3</td>\n",
       "      <td>142</td>\n",
       "      <td>Frank Darabont</td>\n",
       "      <td>Stephen King  Frank Darabont</td>\n",
       "      <td>Drama</td>\n",
       "      <td>&lt;a href=\"https://www.imdb.com/title/tt0111161\"...</td>\n",
       "      <td>Drama Frank Darabont Stephen King  Frank Darab...</td>\n",
       "      <td>genre_Drama genre_Drama genre_Drama director_F...</td>\n",
       "    </tr>\n",
       "    <tr>\n",
       "      <th>1</th>\n",
       "      <td>The Godfather</td>\n",
       "      <td>1972</td>\n",
       "      <td>2</td>\n",
       "      <td>9.2</td>\n",
       "      <td>175</td>\n",
       "      <td>Francis Ford Coppola</td>\n",
       "      <td>Mario Puzo  Francis Ford Coppola</td>\n",
       "      <td>Crime  Drama</td>\n",
       "      <td>&lt;a href=\"https://www.imdb.com/title/tt0068646\"...</td>\n",
       "      <td>Crime  Drama Francis Ford Coppola Mario Puzo  ...</td>\n",
       "      <td>genre_Crime genre_Crime genre_Crime genre_Dram...</td>\n",
       "    </tr>\n",
       "    <tr>\n",
       "      <th>2</th>\n",
       "      <td>The Dark Knight</td>\n",
       "      <td>2008</td>\n",
       "      <td>3</td>\n",
       "      <td>9.1</td>\n",
       "      <td>152</td>\n",
       "      <td>Christopher Nolan</td>\n",
       "      <td>Jonathan Nolan  Christopher Nolan  David S. Go...</td>\n",
       "      <td>Action  Crime  Drama</td>\n",
       "      <td>&lt;a href=\"https://www.imdb.com/title/tt0468569\"...</td>\n",
       "      <td>Action  Crime  Drama Christopher Nolan Jonatha...</td>\n",
       "      <td>genre_Action genre_Action genre_Action genre_C...</td>\n",
       "    </tr>\n",
       "  </tbody>\n",
       "</table>\n",
       "</div>"
      ],
      "text/plain": [
       "                 movie_name  year  rank  averageRating  runtimeMinutes  \\\n",
       "0  The Shawshank Redemption  1994     1            9.3             142   \n",
       "1             The Godfather  1972     2            9.2             175   \n",
       "2           The Dark Knight  2008     3            9.1             152   \n",
       "\n",
       "              directors                                            writers  \\\n",
       "0        Frank Darabont                       Stephen King  Frank Darabont   \n",
       "1  Francis Ford Coppola                   Mario Puzo  Francis Ford Coppola   \n",
       "2     Christopher Nolan  Jonathan Nolan  Christopher Nolan  David S. Go...   \n",
       "\n",
       "                 genres                                           IMDbLink  \\\n",
       "0                 Drama  <a href=\"https://www.imdb.com/title/tt0111161\"...   \n",
       "1          Crime  Drama  <a href=\"https://www.imdb.com/title/tt0068646\"...   \n",
       "2  Action  Crime  Drama  <a href=\"https://www.imdb.com/title/tt0468569\"...   \n",
       "\n",
       "                                    combined_feature  \\\n",
       "0  Drama Frank Darabont Stephen King  Frank Darab...   \n",
       "1  Crime  Drama Francis Ford Coppola Mario Puzo  ...   \n",
       "2  Action  Crime  Drama Christopher Nolan Jonatha...   \n",
       "\n",
       "                           weighted_combined_feature  \n",
       "0  genre_Drama genre_Drama genre_Drama director_F...  \n",
       "1  genre_Crime genre_Crime genre_Crime genre_Dram...  \n",
       "2  genre_Action genre_Action genre_Action genre_C...  "
      ]
     },
     "execution_count": 156,
     "metadata": {},
     "output_type": "execute_result"
    }
   ],
   "source": [
    "data[\"genres\"]=data[\"genres\"].str.replace(\",\", \" \")\n",
    "data[\"writers\"]=data[\"writers\"].str.replace(\",\", \" \")\n",
    "data[\"directors\"]=data[\"directors\"].str.replace(\",\", \" \")\n",
    "data[\"combined_feature\"] = (\n",
    "    data[\"genres\"] + \" \" + \n",
    "    data[\"directors\"] + \" \" + \n",
    "    data[\"writers\"] + \" \" +\n",
    "    data[\"year\"].astype(str) + \" \" +\n",
    "    \"rating_\" + data[\"averageRating\"].round(1).astype(str) + \" \" +\n",
    "    \"runtime_\" + data[\"runtimeMinutes\"].astype(str)\n",
    ")\n",
    "\n",
    "data.head(3)"
   ]
  },
  {
   "cell_type": "code",
   "execution_count": 154,
   "id": "707b1546-0a89-4950-a280-70afe50afc28",
   "metadata": {},
   "outputs": [
    {
     "name": "stdout",
     "output_type": "stream",
     "text": [
      "<class 'pandas.core.frame.DataFrame'>\n",
      "RangeIndex: 5000 entries, 0 to 4999\n",
      "Data columns (total 11 columns):\n",
      " #   Column                     Non-Null Count  Dtype  \n",
      "---  ------                     --------------  -----  \n",
      " 0   movie_name                 5000 non-null   object \n",
      " 1   year                       5000 non-null   object \n",
      " 2   rank                       5000 non-null   int64  \n",
      " 3   averageRating              5000 non-null   float64\n",
      " 4   runtimeMinutes             5000 non-null   int64  \n",
      " 5   directors                  5000 non-null   object \n",
      " 6   writers                    5000 non-null   object \n",
      " 7   genres                     5000 non-null   object \n",
      " 8   IMDbLink                   5000 non-null   object \n",
      " 9   combined_feature           5000 non-null   object \n",
      " 10  weighted_combined_feature  5000 non-null   object \n",
      "dtypes: float64(1), int64(2), object(8)\n",
      "memory usage: 429.8+ KB\n"
     ]
    }
   ],
   "source": [
    "data.info()"
   ]
  },
  {
   "cell_type": "code",
   "execution_count": 131,
   "id": "1af3ab13-a1de-4e99-848c-4294492be116",
   "metadata": {},
   "outputs": [
    {
     "data": {
      "text/plain": [
       "movie_name          0\n",
       "year                0\n",
       "rank                0\n",
       "averageRating       0\n",
       "runtimeMinutes      0\n",
       "directors           0\n",
       "writers             0\n",
       "genres              0\n",
       "IMDbLink            0\n",
       "combined_feature    0\n",
       "dtype: int64"
      ]
     },
     "execution_count": 131,
     "metadata": {},
     "output_type": "execute_result"
    }
   ],
   "source": [
    "data.isnull().sum()"
   ]
  },
  {
   "cell_type": "code",
   "execution_count": 133,
   "id": "01ab7c5a-40bd-40b6-9490-a5a5670b3691",
   "metadata": {},
   "outputs": [
    {
     "data": {
      "text/plain": [
       "<5000x8444 sparse matrix of type '<class 'numpy.float64'>'\n",
       "\twith 59683 stored elements in Compressed Sparse Row format>"
      ]
     },
     "execution_count": 133,
     "metadata": {},
     "output_type": "execute_result"
    }
   ],
   "source": [
    "vectorize = TfidfVectorizer(stop_words=\"english\", max_features=50000 )\n",
    "vector = vectorize.fit_transform(data[\"combined_feature\"])\n",
    "\n",
    "vector"
   ]
  },
  {
   "cell_type": "code",
   "execution_count": 136,
   "id": "ae51cbb8-37a6-4607-b57e-acbf40940617",
   "metadata": {},
   "outputs": [
    {
     "name": "stdout",
     "output_type": "stream",
     "text": [
      "(5000, 5000)\n"
     ]
    }
   ],
   "source": [
    "similarities = cosine_similarity(vector, dense_output=False)\n",
    "print(similarities.shape)\n"
   ]
  },
  {
   "cell_type": "code",
   "execution_count": 138,
   "id": "b537bbf1-329c-4cc9-b4af-205d0c597c60",
   "metadata": {},
   "outputs": [],
   "source": [
    "def create_weighted_feature(row):\n",
    "    features = []\n",
    "    \n",
    "    # ژانر - وزن بالا\n",
    "    genres = row['genres'].replace(',', ' ')\n",
    "    for genre in genres.split():\n",
    "        features.extend([f\"genre_{genre}\"] * 3)  # تکرار ۳ بار\n",
    "    \n",
    "    # کارگردان - وزن متوسط\n",
    "    directors = row['directors'].replace(',', ' ')\n",
    "    for director in directors.split()[:2]:  # فقط ۲ کارگردان اول\n",
    "        features.extend([f\"director_{director}\"] * 2)\n",
    "    \n",
    "    # نویسنده - وزن کم\n",
    "    writers = row['writers'].replace(',', ' ')\n",
    "    for writer in writers.split()[:2]:  # فقط ۲ نویسنده اول\n",
    "        features.append(f\"writer_{writer}\")\n",
    "    \n",
    "    # سایر ویژگی‌ها\n",
    "    features.extend([\n",
    "        f\"year_{row['year'].year}\",\n",
    "        f\"rating_{row['averageRating']:.1f}\",\n",
    "        f\"runtime_{row['runtimeMinutes']}\"\n",
    "    ])\n",
    "    \n",
    "    return ' '.join(features)\n",
    "\n",
    "data[\"weighted_combined_feature\"] = data.apply(create_weighted_feature, axis=1)"
   ]
  },
  {
   "cell_type": "code",
   "execution_count": 144,
   "id": "f330e667-ad5a-4e4e-b70c-f4c0b87abb00",
   "metadata": {},
   "outputs": [],
   "source": [
    "def recommend_movie(movie_title, k=5, min_rating=7.0):\n",
    "    try:\n",
    "        # پیدا کردن فیلم\n",
    "        movie_idx = data[data[\"movie_name\"].str.strip().str.lower() == movie_title.strip().lower()].index[0]\n",
    "        \n",
    "        # محاسبه شباهت‌ها\n",
    "        similarities_score = list(enumerate(similarities[movie_idx]))\n",
    "        sorted_scores = sorted(similarities_score, key=lambda x: x[1], reverse=True)\n",
    "        \n",
    "        # فیلتر و انتخاب\n",
    "        recommendations = []\n",
    "        for idx, score in sorted_scores[1:k*2]:  # بیشتر بگیریم تا بعد فیلتر کافی داشته باشیم\n",
    "            if len(recommendations) >= k:\n",
    "                break\n",
    "            if data.iloc[idx][\"averageRating\"] >= min_rating and idx != movie_idx:\n",
    "                recommendations.append({\n",
    "                    'title': data.iloc[idx][\"movie_name\"],\n",
    "                    'rating': data.iloc[idx][\"averageRating\"],\n",
    "                    'similarity_score': round(score, 3)\n",
    "                })\n",
    "        \n",
    "        if not recommendations:\n",
    "            return \"هیچ پیشنهادی پیدا نشد—فیلتر رو چک کن.\"\n",
    "        \n",
    "        return recommendations\n",
    "        \n",
    "    except IndexError:\n",
    "        return \"فیلم پیدا نشد—عنوان دقیق وارد کن.\""
   ]
  },
  {
   "cell_type": "code",
   "execution_count": null,
   "id": "cbc6151a-e7f5-424a-9a3f-0f621d8a571a",
   "metadata": {},
   "outputs": [],
   "source": [
    "import streamlit as st\n",
    "\n",
    "# UI ساده\n",
    "st.title(\"سیستم پیشنهاد فیلم\")\n",
    "st.write(\"جستجوی فیلم و دریافت پیشنهاد با داده از Kaggle\")\n",
    "\n",
    "# ورودی‌ها\n",
    "movie_title = st.text_input(\"عنوان فیلم را وارد کنید (مثال: The Godfather):\")\n",
    "k = st.slider(\"تعداد پیشنهادها:\", min_value=1, max_value=5, value=3)  # محدوده ساده\n",
    "min_rating = st.slider(\"حداقل ریتینگ:\", min_value=5.0, max_value=9.0, value=7.0, step=0.5)  # گام بزرگ‌تر\n",
    "\n",
    "# دکمه و نمایش نتیجه\n",
    "if st.button(\"جستجو\"):\n",
    "    if movie_title:\n",
    "        recommendations = recommend_movie(movie_title, k, min_rating)\n",
    "        if isinstance(recommendations, list):\n",
    "            st.table(pd.DataFrame(recommendations))  # نمایش جدول ساده\n",
    "        else:\n",
    "            st.error(recommendations)\n",
    "    else:\n",
    "        st.warning(\"لطفاً عنوان فیلم را وارد کنید!\")"
   ]
  },
  {
   "cell_type": "code",
   "execution_count": null,
   "id": "c1aba7fd-9420-4329-ba95-129688be2a86",
   "metadata": {},
   "outputs": [],
   "source": []
  }
 ],
 "metadata": {
  "kernelspec": {
   "display_name": "Python 3 (ipykernel)",
   "language": "python",
   "name": "python3"
  },
  "language_info": {
   "codemirror_mode": {
    "name": "ipython",
    "version": 3
   },
   "file_extension": ".py",
   "mimetype": "text/x-python",
   "name": "python",
   "nbconvert_exporter": "python",
   "pygments_lexer": "ipython3",
   "version": "3.12.7"
  }
 },
 "nbformat": 4,
 "nbformat_minor": 5
}
